{
 "cells": [
  {
   "cell_type": "code",
   "execution_count": 1,
   "metadata": {},
   "outputs": [
    {
     "name": "stdout",
     "output_type": "stream",
     "text": [
      "Matriz de Variância (gamma):\n",
      "[[0.         0.03986696 0.02821771 0.02821771 1.        ]\n",
      " [0.03986696 0.         0.02821771 0.02821771 1.        ]\n",
      " [0.02821771 0.02821771 0.         0.03986696 1.        ]\n",
      " [0.02821771 0.02821771 0.03986696 0.         1.        ]\n",
      " [1.         1.         1.         1.         0.        ]]\n",
      "\n",
      "Vetor de Variância (gamma_x):\n",
      "[0.0199667 0.0199667 0.0199667 0.0199667 1.       ]\n",
      "\n",
      "Point estimation X: 36.5\n"
     ]
    }
   ],
   "source": []
  }
 ],
 "metadata": {
  "kernelspec": {
   "display_name": "ML",
   "language": "python",
   "name": "python3"
  },
  "language_info": {
   "codemirror_mode": {
    "name": "ipython",
    "version": 3
   },
   "file_extension": ".py",
   "mimetype": "text/x-python",
   "name": "python",
   "nbconvert_exporter": "python",
   "pygments_lexer": "ipython3",
   "version": "3.10.13"
  }
 },
 "nbformat": 4,
 "nbformat_minor": 2
}
