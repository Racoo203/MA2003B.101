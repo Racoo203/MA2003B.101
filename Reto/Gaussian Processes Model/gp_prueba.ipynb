{
 "cells": [
  {
   "cell_type": "code",
   "execution_count": 29,
   "metadata": {},
   "outputs": [
    {
     "name": "stdout",
     "output_type": "stream",
     "text": [
      "The autoreload extension is already loaded. To reload it, use:\n",
      "  %reload_ext autoreload\n"
     ]
    }
   ],
   "source": [
    "import math\n",
    "import torch\n",
    "from torch.utils.data import Dataset\n",
    "import gpytorch\n",
    "from matplotlib import pyplot as plt\n",
    "\n",
    "%matplotlib inline\n",
    "%load_ext autoreload\n",
    "%autoreload 2"
   ]
  },
  {
   "cell_type": "code",
   "execution_count": 30,
   "metadata": {},
   "outputs": [
    {
     "name": "stdout",
     "output_type": "stream",
     "text": [
      "Is CUDA available?: True\n",
      "Number of GPUs available: 1\n",
      "Current GPU: 0\n",
      "GPU Name: NVIDIA GeForce GTX 1660 SUPER\n"
     ]
    }
   ],
   "source": [
    "device = torch.device('cuda' if torch.cuda.is_available() else 'cpu')\n",
    "\n",
    "print(\"Is CUDA available?:\", torch.cuda.is_available())\n",
    "print(\"Number of GPUs available:\", torch.cuda.device_count())\n",
    "print(\"Current GPU:\", torch.cuda.current_device())\n",
    "print(\"GPU Name:\", torch.cuda.get_device_name(torch.cuda.current_device()))"
   ]
  },
  {
   "cell_type": "code",
   "execution_count": 31,
   "metadata": {},
   "outputs": [],
   "source": [
    "class ExactGPModel(gpytorch.models.ExactGP):\n",
    "    def __init__(self, train_x, train_y, likelihood):\n",
    "        super(ExactGPModel, self).__init__(train_x, train_y, likelihood)\n",
    "        self.mean_module = gpytorch.means.ConstantMean()\n",
    "        self.covar_module = gpytorch.kernels.ScaleKernel(gpytorch.kernels.RBFKernel())\n",
    "    \n",
    "    def forward(self, x):\n",
    "        mean_x = self.mean_module(x)\n",
    "        covar_x = self.covar_module(x)\n",
    "        return gpytorch.distributions.MultivariateNormal(mean_x, covar_x)"
   ]
  },
  {
   "cell_type": "code",
   "execution_count": 32,
   "metadata": {},
   "outputs": [],
   "source": [
    "class PollutantDataset(Dataset):\n",
    "    def __init__(self, X, y):\n",
    "        self.X = X.to(device)\n",
    "        self.y = y.to(device)\n",
    "    \n",
    "    def __len__(self):\n",
    "        return len(self.X)\n",
    "    \n",
    "    def __getitem__(self, idx):\n",
    "        return self.X[idx], self.y[idx]"
   ]
  },
  {
   "cell_type": "code",
   "execution_count": 33,
   "metadata": {},
   "outputs": [],
   "source": [
    "# Training data is 100 points in [0,1] inclusive regularly spaced\n",
    "train_x = torch.linspace(0, 1, 100)\n",
    "# True function is sin(2*pi*x) with Gaussian noise\n",
    "train_y = torch.sin(train_x * (2 * math.pi)) + torch.randn(train_x.size()) * math.sqrt(0.04)\n",
    "\n",
    "train_dataset = PollutantDataset(train_x, train_y)"
   ]
  },
  {
   "cell_type": "code",
   "execution_count": 34,
   "metadata": {},
   "outputs": [
    {
     "name": "stdout",
     "output_type": "stream",
     "text": [
      "Iter 1/100 - Loss: 0.961   lengthscale: 0.693   noise: 0.693\n",
      "Iter 2/100 - Loss: 0.931   lengthscale: 0.644   noise: 0.644\n",
      "Iter 3/100 - Loss: 0.898   lengthscale: 0.598   noise: 0.598\n",
      "Iter 4/100 - Loss: 0.861   lengthscale: 0.555   noise: 0.554\n",
      "Iter 5/100 - Loss: 0.818   lengthscale: 0.514   noise: 0.513\n",
      "Iter 6/100 - Loss: 0.770   lengthscale: 0.476   noise: 0.474\n",
      "Iter 7/100 - Loss: 0.717   lengthscale: 0.440   noise: 0.437\n",
      "Iter 8/100 - Loss: 0.663   lengthscale: 0.405   noise: 0.402\n",
      "Iter 9/100 - Loss: 0.612   lengthscale: 0.373   noise: 0.369\n",
      "Iter 10/100 - Loss: 0.565   lengthscale: 0.343   noise: 0.339\n",
      "Iter 11/100 - Loss: 0.523   lengthscale: 0.315   noise: 0.310\n",
      "Iter 12/100 - Loss: 0.486   lengthscale: 0.292   noise: 0.284\n",
      "Iter 13/100 - Loss: 0.451   lengthscale: 0.271   noise: 0.259\n",
      "Iter 14/100 - Loss: 0.418   lengthscale: 0.255   noise: 0.236\n",
      "Iter 15/100 - Loss: 0.386   lengthscale: 0.241   noise: 0.215\n",
      "Iter 16/100 - Loss: 0.355   lengthscale: 0.230   noise: 0.196\n",
      "Iter 17/100 - Loss: 0.325   lengthscale: 0.221   noise: 0.178\n",
      "Iter 18/100 - Loss: 0.295   lengthscale: 0.215   noise: 0.162\n",
      "Iter 19/100 - Loss: 0.267   lengthscale: 0.211   noise: 0.147\n",
      "Iter 20/100 - Loss: 0.239   lengthscale: 0.208   noise: 0.134\n",
      "Iter 21/100 - Loss: 0.212   lengthscale: 0.207   noise: 0.122\n",
      "Iter 22/100 - Loss: 0.186   lengthscale: 0.207   noise: 0.111\n",
      "Iter 23/100 - Loss: 0.162   lengthscale: 0.209   noise: 0.101\n",
      "Iter 24/100 - Loss: 0.139   lengthscale: 0.212   noise: 0.092\n",
      "Iter 25/100 - Loss: 0.119   lengthscale: 0.217   noise: 0.084\n",
      "Iter 26/100 - Loss: 0.101   lengthscale: 0.222   noise: 0.077\n",
      "Iter 27/100 - Loss: 0.085   lengthscale: 0.228   noise: 0.071\n",
      "Iter 28/100 - Loss: 0.072   lengthscale: 0.236   noise: 0.065\n",
      "Iter 29/100 - Loss: 0.062   lengthscale: 0.244   noise: 0.060\n",
      "Iter 30/100 - Loss: 0.054   lengthscale: 0.252   noise: 0.056\n",
      "Iter 31/100 - Loss: 0.050   lengthscale: 0.261   noise: 0.052\n",
      "Iter 32/100 - Loss: 0.048   lengthscale: 0.271   noise: 0.048\n",
      "Iter 33/100 - Loss: 0.049   lengthscale: 0.280   noise: 0.046\n",
      "Iter 34/100 - Loss: 0.052   lengthscale: 0.289   noise: 0.043\n",
      "Iter 35/100 - Loss: 0.056   lengthscale: 0.297   noise: 0.041\n",
      "Iter 36/100 - Loss: 0.061   lengthscale: 0.304   noise: 0.040\n",
      "Iter 37/100 - Loss: 0.065   lengthscale: 0.310   noise: 0.039\n",
      "Iter 38/100 - Loss: 0.069   lengthscale: 0.313   noise: 0.038\n",
      "Iter 39/100 - Loss: 0.072   lengthscale: 0.314   noise: 0.037\n",
      "Iter 40/100 - Loss: 0.073   lengthscale: 0.314   noise: 0.037\n",
      "Iter 41/100 - Loss: 0.072   lengthscale: 0.311   noise: 0.037\n",
      "Iter 42/100 - Loss: 0.070   lengthscale: 0.308   noise: 0.037\n",
      "Iter 43/100 - Loss: 0.067   lengthscale: 0.303   noise: 0.038\n",
      "Iter 44/100 - Loss: 0.064   lengthscale: 0.298   noise: 0.038\n",
      "Iter 45/100 - Loss: 0.061   lengthscale: 0.292   noise: 0.039\n",
      "Iter 46/100 - Loss: 0.058   lengthscale: 0.287   noise: 0.040\n",
      "Iter 47/100 - Loss: 0.056   lengthscale: 0.283   noise: 0.041\n",
      "Iter 48/100 - Loss: 0.053   lengthscale: 0.279   noise: 0.042\n",
      "Iter 49/100 - Loss: 0.052   lengthscale: 0.276   noise: 0.044\n",
      "Iter 50/100 - Loss: 0.050   lengthscale: 0.273   noise: 0.045\n",
      "Iter 51/100 - Loss: 0.049   lengthscale: 0.272   noise: 0.046\n",
      "Iter 52/100 - Loss: 0.049   lengthscale: 0.271   noise: 0.047\n",
      "Iter 53/100 - Loss: 0.049   lengthscale: 0.271   noise: 0.049\n",
      "Iter 54/100 - Loss: 0.048   lengthscale: 0.272   noise: 0.050\n",
      "Iter 55/100 - Loss: 0.049   lengthscale: 0.273   noise: 0.051\n",
      "Iter 56/100 - Loss: 0.049   lengthscale: 0.275   noise: 0.052\n",
      "Iter 57/100 - Loss: 0.049   lengthscale: 0.277   noise: 0.053\n",
      "Iter 58/100 - Loss: 0.049   lengthscale: 0.280   noise: 0.053\n",
      "Iter 59/100 - Loss: 0.050   lengthscale: 0.282   noise: 0.054\n",
      "Iter 60/100 - Loss: 0.050   lengthscale: 0.285   noise: 0.054\n",
      "Iter 61/100 - Loss: 0.050   lengthscale: 0.288   noise: 0.054\n",
      "Iter 62/100 - Loss: 0.050   lengthscale: 0.290   noise: 0.055\n",
      "Iter 63/100 - Loss: 0.050   lengthscale: 0.292   noise: 0.054\n",
      "Iter 64/100 - Loss: 0.050   lengthscale: 0.294   noise: 0.054\n",
      "Iter 65/100 - Loss: 0.050   lengthscale: 0.295   noise: 0.054\n",
      "Iter 66/100 - Loss: 0.050   lengthscale: 0.295   noise: 0.054\n",
      "Iter 67/100 - Loss: 0.049   lengthscale: 0.295   noise: 0.053\n",
      "Iter 68/100 - Loss: 0.049   lengthscale: 0.295   noise: 0.053\n",
      "Iter 69/100 - Loss: 0.049   lengthscale: 0.294   noise: 0.052\n",
      "Iter 70/100 - Loss: 0.048   lengthscale: 0.293   noise: 0.052\n",
      "Iter 71/100 - Loss: 0.048   lengthscale: 0.292   noise: 0.051\n",
      "Iter 72/100 - Loss: 0.048   lengthscale: 0.291   noise: 0.051\n",
      "Iter 73/100 - Loss: 0.048   lengthscale: 0.290   noise: 0.050\n",
      "Iter 74/100 - Loss: 0.048   lengthscale: 0.288   noise: 0.050\n",
      "Iter 75/100 - Loss: 0.048   lengthscale: 0.287   noise: 0.049\n",
      "Iter 76/100 - Loss: 0.048   lengthscale: 0.287   noise: 0.049\n",
      "Iter 77/100 - Loss: 0.048   lengthscale: 0.286   noise: 0.048\n",
      "Iter 78/100 - Loss: 0.048   lengthscale: 0.286   noise: 0.048\n",
      "Iter 79/100 - Loss: 0.048   lengthscale: 0.286   noise: 0.048\n",
      "Iter 80/100 - Loss: 0.048   lengthscale: 0.286   noise: 0.048\n",
      "Iter 81/100 - Loss: 0.048   lengthscale: 0.287   noise: 0.048\n",
      "Iter 82/100 - Loss: 0.048   lengthscale: 0.287   noise: 0.048\n",
      "Iter 83/100 - Loss: 0.048   lengthscale: 0.288   noise: 0.047\n",
      "Iter 84/100 - Loss: 0.048   lengthscale: 0.289   noise: 0.048\n",
      "Iter 85/100 - Loss: 0.048   lengthscale: 0.290   noise: 0.048\n",
      "Iter 86/100 - Loss: 0.048   lengthscale: 0.291   noise: 0.048\n",
      "Iter 87/100 - Loss: 0.048   lengthscale: 0.291   noise: 0.048\n",
      "Iter 88/100 - Loss: 0.048   lengthscale: 0.292   noise: 0.048\n",
      "Iter 89/100 - Loss: 0.048   lengthscale: 0.293   noise: 0.048\n",
      "Iter 90/100 - Loss: 0.048   lengthscale: 0.293   noise: 0.048\n",
      "Iter 91/100 - Loss: 0.048   lengthscale: 0.293   noise: 0.049\n",
      "Iter 92/100 - Loss: 0.048   lengthscale: 0.293   noise: 0.049\n",
      "Iter 93/100 - Loss: 0.048   lengthscale: 0.293   noise: 0.049\n",
      "Iter 94/100 - Loss: 0.048   lengthscale: 0.293   noise: 0.049\n",
      "Iter 95/100 - Loss: 0.048   lengthscale: 0.292   noise: 0.049\n",
      "Iter 96/100 - Loss: 0.048   lengthscale: 0.292   noise: 0.049\n",
      "Iter 97/100 - Loss: 0.048   lengthscale: 0.292   noise: 0.050\n",
      "Iter 98/100 - Loss: 0.048   lengthscale: 0.291   noise: 0.050\n",
      "Iter 99/100 - Loss: 0.048   lengthscale: 0.291   noise: 0.050\n",
      "Iter 100/100 - Loss: 0.048   lengthscale: 0.291   noise: 0.050\n"
     ]
    }
   ],
   "source": [
    "# initialize likelihood and model\n",
    "likelihood = gpytorch.likelihoods.GaussianLikelihood()\n",
    "model = ExactGPModel(train_dataset.X, train_dataset.y, likelihood)\n",
    "\n",
    "model = model.to(device)\n",
    "likelihood = likelihood.to(device)\n",
    "\n",
    "# Find optimal model hyperparameters\n",
    "model.train()\n",
    "likelihood.train()\n",
    "\n",
    "# Use the adam optimizer\n",
    "optimizer = torch.optim.Adam(model.parameters(), lr=0.1)  # Includes GaussianLikelihood parameters\n",
    "\n",
    "# \"Loss\" for GPs - the marginal log likelihood\n",
    "mll = gpytorch.mlls.ExactMarginalLogLikelihood(likelihood, model)\n",
    "mll = mll.to(device)\n",
    "\n",
    "n_epochs = 100\n",
    "\n",
    "for epoch in range(n_epochs):\n",
    "    # Zero gradients from previous iteration\n",
    "    optimizer.zero_grad()\n",
    "    # Output from model\n",
    "    output = model(train_dataset.X)\n",
    "    # Calc loss and backprop gradients\n",
    "    loss = -mll(output, train_dataset.y)\n",
    "    loss.backward()\n",
    "    print('Iter %d/%d - Loss: %.3f   lengthscale: %.3f   noise: %.3f' % (\n",
    "        epoch + 1, n_epochs, loss.item(),\n",
    "        model.covar_module.base_kernel.lengthscale.item(),\n",
    "        model.likelihood.noise.item()\n",
    "    ))\n",
    "    optimizer.step()"
   ]
  },
  {
   "cell_type": "code",
   "execution_count": 35,
   "metadata": {},
   "outputs": [],
   "source": [
    "# Get into evaluation (predictive posterior) mode\n",
    "model.eval()\n",
    "likelihood.eval()\n",
    "\n",
    "# Test points are regularly spaced along [0,1]\n",
    "# Make predictions by feeding model through likelihood\n",
    "with torch.no_grad(), gpytorch.settings.fast_pred_var():\n",
    "    test_x = torch.linspace(0, 1, 51)\n",
    "    test_x = test_x.to(device)\n",
    "    observed_pred = likelihood(model(test_x))"
   ]
  },
  {
   "cell_type": "code",
   "execution_count": 36,
   "metadata": {},
   "outputs": [
    {
     "data": {
      "image/png": "[encoded data removed]",
      "text/plain": [
       "<Figure size 400x300 with 1 Axes>"
      ]
     },
     "metadata": {},
     "output_type": "display_data"
    }
   ],
   "source": [
    "with torch.no_grad():\n",
    "    # Initialize plot\n",
    "    f, ax = plt.subplots(1, 1, figsize=(4, 3))\n",
    "\n",
    "    # Get upper and lower confidence bounds\n",
    "    lower, upper = observed_pred.confidence_region()\n",
    "    # Plot training data as black stars\n",
    "    ax.plot(train_x.numpy(), train_y.numpy(), 'k*')\n",
    "    # Plot predictive means as blue line\n",
    "    ax.plot(test_x.cpu().numpy(), observed_pred.mean.cpu().numpy(), 'b')\n",
    "    # Shade between the lower and upper confidence bounds\n",
    "    ax.fill_between(test_x.cpu().numpy(), lower.cpu().numpy(), upper.cpu().numpy(), alpha=0.5)\n",
    "    ax.set_ylim([-3, 3])\n",
    "    ax.legend(['Observed Data', 'Mean', 'Confidence'])"
   ]
  }
 ],
 "metadata": {
  "kernelspec": {
   "display_name": "DS",
   "language": "python",
   "name": "python3"
  },
  "language_info": {
   "codemirror_mode": {
    "name": "ipython",
    "version": 3
   },
   "file_extension": ".py",
   "mimetype": "text/x-python",
   "name": "python",
   "nbconvert_exporter": "python",
   "pygments_lexer": "ipython3",
   "version": "3.12.2"
  }
 },
 "nbformat": 4,
 "nbformat_minor": 2
}
